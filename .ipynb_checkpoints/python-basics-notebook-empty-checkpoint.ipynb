{
 "cells": [
  {
   "cell_type": "markdown",
   "metadata": {},
   "source": [
    "# Python Basics\n",
    "\n",
    "This is a collection of exercises that I wrote as a refresher of key Python features.\n",
    "\n",
    "## Built-in datatypes and variable binding\n",
    "Python uses <a href=“http://stackoverflow.com/questions/11328920/is-python-strongly-typed”>dynamic typing</a>. In short, this means that the type of data in a variable is not explicitly identified in a program, like it is in C++ or Java. "
   ]
  },
  {
   "cell_type": "code",
   "execution_count": 18,
   "metadata": {
    "collapsed": false
   },
   "outputs": [
    {
     "name": "stdout",
     "output_type": "stream",
     "text": [
      "2 <type 'int'>\n",
      "<type 'float'>\n",
      "3.0 <type 'float'>\n",
      "3 <type 'int'>\n",
      "QFRM <type 'str'>\n",
      "QFRMLang Feng\n",
      "False <type 'bool'>\n",
      "True <type 'bool'>\n",
      "1267650600228229401496703205376 <type 'long'>\n",
      "16 <type 'int'>\n",
      "['a', 2, 3.14, True] <type 'list'>\n"
     ]
    }
   ],
   "source": [
    "x = 2\n",
    "print x, type(x)\n",
    "x = x + 1.0\n",
    "print type(1.0)\n",
    "print x, type(x)\n",
    "print int(x), type(int(x))\n",
    "x = 'QFRM'\n",
    "y = 'Lang Feng'\n",
    "print x, type(x)\n",
    "print (x + y)\n",
    "x = False\n",
    "print x, type(x)\n",
    "x = not x\n",
    "print x, type(x)\n",
    "print 2**100, type(2**100)\n",
    "print 2**4, type(2**4)\n",
    "x = ['a', 2, 3.14, True]\n",
    "print x, type(x)"
   ]
  },
  {
   "cell_type": "markdown",
   "metadata": {},
   "source": [
    "## ints and floats\n",
    "Operations involving only ints will yield another int. An operation involving a float will yield a float."
   ]
  },
  {
   "cell_type": "code",
   "execution_count": 19,
   "metadata": {
    "collapsed": false
   },
   "outputs": [
    {
     "name": "stdout",
     "output_type": "stream",
     "text": [
      "7/2 is 3\n",
      "7%2 is 1\n",
      "7.0/2 is 3.5\n",
      "2 <type 'int'>\n"
     ]
    }
   ],
   "source": [
    "print \"7/2 is\", 7/2\n",
    "print \"7%2 is\", 7%2\n",
    "print \"7.0/2 is\", 7.0/2\n",
    "x = 8;\n",
    "y = 3;\n",
    "z = x/y;\n",
    "print z, type(z)"
   ]
  },
  {
   "cell_type": "markdown",
   "metadata": {},
   "source": [
    "### boolean"
   ]
  },
  {
   "cell_type": "code",
   "execution_count": 27,
   "metadata": {
    "collapsed": false
   },
   "outputs": [
    {
     "name": "stdout",
     "output_type": "stream",
     "text": [
      "a is  True\n",
      "b is  False\n",
      "a and b is False\n",
      "a or b is True\n"
     ]
    }
   ],
   "source": [
    "# a is True\n",
    "#a = True\n",
    "b = not a\n",
    "print \"a is \", a\n",
    "print \"b is \", b\n",
    "print \"a and b is\", a and b\n",
    "print \"a or b is\", a or b\n",
    "# b is False\n",
    "# a and b is False\n",
    "# a or b is True"
   ]
  },
  {
   "cell_type": "markdown",
   "metadata": {},
   "source": [
    "### Strings\n",
    "strings (type 'str') are objects, strings are concatenated using the '+' operator"
   ]
  },
  {
   "cell_type": "code",
   "execution_count": 30,
   "metadata": {
    "collapsed": false
   },
   "outputs": [
    {
     "name": "stdout",
     "output_type": "stream",
     "text": [
      "Hello World\n",
      "['Hello', 'World']\n",
      "Hello_World\n"
     ]
    }
   ],
   "source": [
    "# Hello World\n",
    "# ['Hello', 'World']\n",
    "# Hello_World\n",
    "a = 'Hello'\n",
    "b = 'World'\n",
    "c = a + ' ' + b\n",
    "print c\n",
    "words = c.split()\n",
    "print words\n",
    "print '_'.join(words)"
   ]
  },
  {
   "cell_type": "markdown",
   "metadata": {},
   "source": [
    "### Lists\n",
    "Lists are like arrays in C++ or Java. However, they are easily lenthgened or shortened, store mixed data type, and feature **list comprehension** "
   ]
  },
  {
   "cell_type": "code",
   "execution_count": 42,
   "metadata": {
    "collapsed": false
   },
   "outputs": [
    {
     "name": "stdout",
     "output_type": "stream",
     "text": [
      "[1, 2, 3, 4, 5] <type 'list'>\n",
      "[0, 1, 2, 3, 4, 5, 6, 7, 8, 9] [0, 1] [1, 2] [2, 3, 4, 5, 6, 7, 8, 9]\n",
      "[0, 1, 2, 3, 4, 5, 6, 7, 8, 9] <type 'list'>\n",
      "[1, 3, 5]\n",
      "[2, 3]\n",
      "[2, 3, 2, 3]\n",
      "[0, 0, 0, 0, 0, 0, 0, 0, 0, 0]\n"
     ]
    }
   ],
   "source": [
    "x = [1,2,3,4,5]\n",
    "print x, type(x)\n",
    "x = range(0,10)\n",
    "print x, x[:2], x[1:3], x[2:] # the index starts from 0, but doesnot include the indexed, like x[:2] does not include x[2]\n",
    "# x[1:3] doesnot include x[3]\n",
    "print x, type(x)\n",
    "y = range(1,6,2)\n",
    "print y\n",
    "z = range(2,4,1)\n",
    "print z\n",
    "print z*2\n",
    "print [0]*10"
   ]
  },
  {
   "cell_type": "code",
   "execution_count": 41,
   "metadata": {
    "collapsed": false
   },
   "outputs": [
    {
     "name": "stdout",
     "output_type": "stream",
     "text": [
      "[0, 1, 4, 9, 16, 25, 36, 49, 64, 81]\n",
      "[(0, 0), (1, 1), (2, 4), (3, 9), (4, 16), (5, 25), (6, 36), (7, 49), (8, 64), (9, 81)]\n"
     ]
    }
   ],
   "source": [
    "#List comprehension\n",
    "print [x*x for x in range(0,10)]\n",
    "print [(x, x*x) for x in range(0,10)]"
   ]
  },
  {
   "cell_type": "markdown",
   "metadata": {},
   "source": [
    "## Looping (for, while, reduce)\n",
    "<code>for</code> and <code>while</code> are typically much more often used than <code>reduce</code>, as the sum function example at the end shows, it is better to use a library function"
   ]
  },
  {
   "cell_type": "code",
   "execution_count": 63,
   "metadata": {
    "collapsed": false
   },
   "outputs": [
    {
     "name": "stdout",
     "output_type": "stream",
     "text": [
      "5050\n"
     ]
    }
   ],
   "source": [
    "#for\n",
    "#sum integers from 1 to 100\n",
    "# when naming the variable, should be aware of the name the same with the system keeping names, such as sum\n",
    "sum_ = 0\n",
    "for n in range(1,101): # donot forget the comma\n",
    "    sum_ += n\n",
    "\n",
    "print sum_"
   ]
  },
  {
   "cell_type": "code",
   "execution_count": 61,
   "metadata": {
    "collapsed": false
   },
   "outputs": [
    {
     "name": "stdout",
     "output_type": "stream",
     "text": [
      "5050\n"
     ]
    }
   ],
   "source": [
    "#while\n",
    "#sum integers from 1 to 100\n",
    "\n",
    "sum_ = 0\n",
    "n = 1\n",
    "while n < 101: # donot forget the comma \n",
    "    sum_ = sum_ + n\n",
    "    n = n + 1\n",
    "# an end is not neccessary compared with Matlab    \n",
    "print sum_"
   ]
  },
  {
   "cell_type": "code",
   "execution_count": 62,
   "metadata": {
    "collapsed": false
   },
   "outputs": [
    {
     "name": "stdout",
     "output_type": "stream",
     "text": [
      "5050\n"
     ]
    }
   ],
   "source": [
    "#reduce\n",
    "#sum integers from 1 to 100\n",
    "print reduce(lambda n, sum_: n+sum_, range(1,101)) ## cannot understand"
   ]
  },
  {
   "cell_type": "code",
   "execution_count": 11,
   "metadata": {
    "collapsed": false
   },
   "outputs": [
    {
     "name": "stdout",
     "output_type": "stream",
     "text": [
      "5050\n"
     ]
    }
   ],
   "source": [
    "#Python's sum\n",
    "print sum(range(1,101))"
   ]
  },
  {
   "cell_type": "code",
   "execution_count": 50,
   "metadata": {
    "collapsed": false
   },
   "outputs": [
    {
     "name": "stdout",
     "output_type": "stream",
     "text": [
      "5050.0\n"
     ]
    }
   ],
   "source": [
    "#preferred way to sum floating point (faster)\n",
    "import math # means go to the library\n",
    "print math.fsum(range(1,101))"
   ]
  },
  {
   "cell_type": "markdown",
   "metadata": {},
   "source": [
    "### Conditional execution (if)\n"
   ]
  },
  {
   "cell_type": "code",
   "execution_count": 60,
   "metadata": {
    "collapsed": false
   },
   "outputs": [
    {
     "name": "stdout",
     "output_type": "stream",
     "text": [
      "0.582599301457 <type 'float'>\n",
      "0.582599301457 is above median\n"
     ]
    }
   ],
   "source": [
    "# the if statement\n",
    "import random as rnd# import random library\n",
    "# only <code>import random</code> is not enough, since the library name is the same with the function name, binary meaning\n",
    "# so we need to load <code>random</code> library name as rnd to avoid binary name\n",
    "r = rnd.random()\n",
    "print r, type(r)\n",
    "if r < 0.25:\n",
    "    print r, \"is the bottom quartile\"\n",
    "elif r < 0.5:\n",
    "    print r, \"is below median\"\n",
    "else:\n",
    "    print r, \"is above median\""
   ]
  },
  {
   "cell_type": "markdown",
   "metadata": {},
   "source": [
    "### Dictionaries\n",
    "A dictionary is like a list of key: vaule pairs. You can look things up quickly by key"
   ]
  },
  {
   "cell_type": "code",
   "execution_count": 65,
   "metadata": {
    "collapsed": false
   },
   "outputs": [
    {
     "name": "stdout",
     "output_type": "stream",
     "text": [
      "104.34\n"
     ]
    }
   ],
   "source": [
    "prices = {'AMAZ': 752.6, 'AAPL':104.34, 'FB':125}\n",
    "print prices['AAPL'] # watch out the brackets"
   ]
  },
  {
   "cell_type": "code",
   "execution_count": 69,
   "metadata": {
    "collapsed": false
   },
   "outputs": [
    {
     "name": "stdout",
     "output_type": "stream",
     "text": [
      "{' ': 0, '.': 0, 'T': 0, 'a': 0, 'c': 0, 'b': 0, 'e': 0, 'd': 0, 'g': 0, 'f': 0, 'i': 0, 'h': 0, 'k': 0, 'j': 0, 'm': 0, 'l': 0, 'o': 0, 'n': 0, 'q': 0, 'p': 0, 's': 0, 'r': 0, 'u': 0, 't': 0, 'w': 0, 'v': 0, 'y': 0, 'x': 0, 'z': 0}\n",
      "{' ': 8, '.': 1, 'T': 1, 'a': 1, 'c': 1, 'b': 1, 'e': 3, 'd': 1, 'g': 1, 'f': 1, 'i': 1, 'h': 2, 'k': 1, 'j': 1, 'm': 1, 'l': 1, 'o': 4, 'n': 1, 'q': 1, 'p': 1, 's': 1, 'r': 2, 'u': 2, 't': 1, 'w': 1, 'v': 1, 'y': 1, 'x': 1, 'z': 1}\n"
     ]
    }
   ],
   "source": [
    "#distribution of characters in a string\n",
    "s = \"The quick brown fox jumps over the lazy dog.\"\n",
    "d = {c:0 for c in s}\n",
    "print d\n",
    "\n",
    "for c in s:\n",
    "    d[c] += 1\n",
    "print d"
   ]
  },
  {
   "cell_type": "markdown",
   "metadata": {},
   "source": [
    "## Functions"
   ]
  },
  {
   "cell_type": "code",
   "execution_count": 70,
   "metadata": {
    "collapsed": false
   },
   "outputs": [
    {
     "name": "stdout",
     "output_type": "stream",
     "text": [
      "720\n"
     ]
    }
   ],
   "source": [
    "def factorial(n): # function declaration\n",
    "     if n < 2:    # function body\n",
    "            return 1\n",
    "    return n * factorial(n-1) # mind the format\n",
    "\n",
    "print factorial(6)\n",
    "        \n"
   ]
  },
  {
   "cell_type": "code",
   "execution_count": 92,
   "metadata": {
    "collapsed": false
   },
   "outputs": [
    {
     "name": "stdout",
     "output_type": "stream",
     "text": [
      "8\n"
     ]
    }
   ],
   "source": [
    "def gcd(a, b):\n",
    "# write this function...\n",
    "    if a < b: # sawp a to be the larger number\n",
    "        return gcd(b, a)\n",
    "    if b == 0:\n",
    "        return a\n",
    "    return gcd(b, a%b)\n",
    "#        tmp = a;\n",
    "#        a = b;\n",
    "#        b = tmp;\n",
    "#    if a%b != 0: # go on looping\n",
    "#        return gcd(b, a%b)\n",
    "#    else:\n",
    "#        return b \n",
    "    \n",
    "print gcd(16, 24)"
   ]
  },
  {
   "cell_type": "code",
   "execution_count": null,
   "metadata": {
    "collapsed": true
   },
   "outputs": [],
   "source": []
  }
 ],
 "metadata": {
  "anaconda-cloud": {},
  "kernelspec": {
   "display_name": "Python [Root]",
   "language": "python",
   "name": "Python [Root]"
  },
  "language_info": {
   "codemirror_mode": {
    "name": "ipython",
    "version": 2
   },
   "file_extension": ".py",
   "mimetype": "text/x-python",
   "name": "python",
   "nbconvert_exporter": "python",
   "pygments_lexer": "ipython2",
   "version": "2.7.12"
  }
 },
 "nbformat": 4,
 "nbformat_minor": 0
}
